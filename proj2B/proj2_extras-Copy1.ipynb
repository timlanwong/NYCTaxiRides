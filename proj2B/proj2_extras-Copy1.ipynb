{
 "cells": [
  {
   "cell_type": "markdown",
   "metadata": {},
   "source": [
    "Before you turn in the homework, make sure everything runs as expected. To do so, select **Kernel**$\\rightarrow$**Restart & Run All** in the toolbar above.  Remember to submit both on **DataHub** and **Gradescope**.\n",
    "\n",
    "Please fill in your name and include a list of your collaborators below."
   ]
  },
  {
   "cell_type": "code",
   "execution_count": 1,
   "metadata": {},
   "outputs": [],
   "source": [
    "NAME = \"Timlan Wong\"\n",
    "COLLABORATORS = \"\""
   ]
  },
  {
   "cell_type": "markdown",
   "metadata": {},
   "source": [
    "---"
   ]
  },
  {
   "cell_type": "markdown",
   "metadata": {},
   "source": [
    "# Project 2: NYC Taxi Rides\n",
    "# Extras\n",
    "\n",
    "Put all of your extra work in here. Feel free to save figures to use when completing Part 4."
   ]
  },
  {
   "cell_type": "code",
   "execution_count": 2,
   "metadata": {},
   "outputs": [],
   "source": [
    "import os\n",
    "import pandas as pd\n",
    "import numpy as np\n",
    "import random\n",
    "import matplotlib.pyplot as plt\n",
    "import seaborn as sns\n",
    "from pathlib import Path\n",
    "from sqlalchemy import create_engine\n",
    "from sklearn.model_selection import cross_val_score, train_test_split, GridSearchCV\n",
    "import sklearn.linear_model as lm\n",
    "from utils import timeit\n",
    "\n",
    "plt.rcParams['figure.figsize'] = (12, 9)\n",
    "plt.rcParams['font.size'] = 12\n",
    "\n",
    "sns.set(style=\"whitegrid\", palette=\"muted\")\n",
    "%matplotlib inline"
   ]
  },
  {
   "cell_type": "markdown",
   "metadata": {},
   "source": [
    "Let's use the SQLite engine from part 1"
   ]
  },
  {
   "cell_type": "code",
   "execution_count": 3,
   "metadata": {
    "scrolled": true
   },
   "outputs": [
    {
     "name": "stdout",
     "output_type": "stream",
     "text": [
      "Table taxi has 15000000 rows!\n",
      "0.94 s elapsed\n"
     ]
    }
   ],
   "source": [
    "# DB_URI = \"sqlite:////srv/db/taxi_2016_student_small.sqlite\"\n",
    "# TABLE_NAME = \"taxi\"\n",
    "\n",
    "# sql_engine = create_engine(DB_URI)\n",
    "# with timeit():\n",
    "#     print(f\"Table {TABLE_NAME} has {sql_engine.execute(f'SELECT COUNT(*) FROM {TABLE_NAME}').first()[0]} rows!\")"
   ]
  },
  {
   "cell_type": "code",
   "execution_count": 4,
   "metadata": {},
   "outputs": [
    {
     "name": "stdout",
     "output_type": "stream",
     "text": [
      "-rw-r--r-- 1 root root 2.1G Nov  7 04:43 /srv/db/taxi_2016_student_small.sqlite\r\n"
     ]
    }
   ],
   "source": [
    "# !ls -lh /srv/db/taxi_2016_student_small.sqlite"
   ]
  },
  {
   "cell_type": "markdown",
   "metadata": {},
   "source": [
    "Let's run in t he taxi table from part 1"
   ]
  },
  {
   "cell_type": "code",
   "execution_count": 5,
   "metadata": {},
   "outputs": [
    {
     "name": "stdout",
     "output_type": "stream",
     "text": [
      "Table taxi has 15000000 rows!\n",
      "0.93 s elapsed\n"
     ]
    }
   ],
   "source": [
    "# DB_URI = \"sqlite:////srv/db/taxi_2016_student_small.sqlite\"\n",
    "# TABLE_NAME = \"taxi\"\n",
    "\n",
    "# sql_engine = create_engine(DB_URI)\n",
    "# with timeit():\n",
    "#     print(f\"Table {TABLE_NAME} has {sql_engine.execute(f'SELECT COUNT(*) FROM {TABLE_NAME}').first()[0]} rows!\")"
   ]
  },
  {
   "cell_type": "markdown",
   "metadata": {},
   "source": [
    "Rather than selecting all rides starting in the month of January in the year 2016 like in part 1, let's select all rides starting in the month of February"
   ]
  },
  {
   "cell_type": "code",
   "execution_count": 6,
   "metadata": {
    "scrolled": true
   },
   "outputs": [
    {
     "name": "stdout",
     "output_type": "stream",
     "text": [
      "2.40 s elapsed\n"
     ]
    },
    {
     "data": {
      "text/html": [
       "<div>\n",
       "<style scoped>\n",
       "    .dataframe tbody tr th:only-of-type {\n",
       "        vertical-align: middle;\n",
       "    }\n",
       "\n",
       "    .dataframe tbody tr th {\n",
       "        vertical-align: top;\n",
       "    }\n",
       "\n",
       "    .dataframe thead th {\n",
       "        text-align: right;\n",
       "    }\n",
       "</style>\n",
       "<table border=\"1\" class=\"dataframe\">\n",
       "  <thead>\n",
       "    <tr style=\"text-align: right;\">\n",
       "      <th></th>\n",
       "      <th>record_id</th>\n",
       "      <th>VendorID</th>\n",
       "      <th>tpep_pickup_datetime</th>\n",
       "      <th>tpep_dropoff_datetime</th>\n",
       "      <th>passenger_count</th>\n",
       "      <th>trip_distance</th>\n",
       "      <th>pickup_longitude</th>\n",
       "      <th>pickup_latitude</th>\n",
       "      <th>RatecodeID</th>\n",
       "      <th>store_and_fwd_flag</th>\n",
       "      <th>dropoff_longitude</th>\n",
       "      <th>dropoff_latitude</th>\n",
       "      <th>payment_type</th>\n",
       "      <th>fare_amount</th>\n",
       "      <th>extra</th>\n",
       "      <th>mta_tax</th>\n",
       "      <th>tip_amount</th>\n",
       "      <th>tolls_amount</th>\n",
       "      <th>improvement_surcharge</th>\n",
       "      <th>total_amount</th>\n",
       "    </tr>\n",
       "  </thead>\n",
       "  <tbody>\n",
       "    <tr>\n",
       "      <th>0</th>\n",
       "      <td>12580200</td>\n",
       "      <td>1</td>\n",
       "      <td>2016-02-01 00:02:29</td>\n",
       "      <td>2016-02-01 00:20:32</td>\n",
       "      <td>1</td>\n",
       "      <td>3.50</td>\n",
       "      <td>-73.989433</td>\n",
       "      <td>40.762970</td>\n",
       "      <td>1</td>\n",
       "      <td>N</td>\n",
       "      <td>-73.951668</td>\n",
       "      <td>40.781853</td>\n",
       "      <td>1</td>\n",
       "      <td>15.0</td>\n",
       "      <td>0.5</td>\n",
       "      <td>0.5</td>\n",
       "      <td>3.26</td>\n",
       "      <td>0.0</td>\n",
       "      <td>0.3</td>\n",
       "      <td>19.56</td>\n",
       "    </tr>\n",
       "    <tr>\n",
       "      <th>1</th>\n",
       "      <td>12581300</td>\n",
       "      <td>1</td>\n",
       "      <td>2016-02-01 00:11:37</td>\n",
       "      <td>2016-02-01 00:21:55</td>\n",
       "      <td>1</td>\n",
       "      <td>3.50</td>\n",
       "      <td>-73.988289</td>\n",
       "      <td>40.720108</td>\n",
       "      <td>1</td>\n",
       "      <td>N</td>\n",
       "      <td>-73.951080</td>\n",
       "      <td>40.687588</td>\n",
       "      <td>1</td>\n",
       "      <td>12.5</td>\n",
       "      <td>0.5</td>\n",
       "      <td>0.5</td>\n",
       "      <td>3.45</td>\n",
       "      <td>0.0</td>\n",
       "      <td>0.3</td>\n",
       "      <td>17.25</td>\n",
       "    </tr>\n",
       "    <tr>\n",
       "      <th>2</th>\n",
       "      <td>12581400</td>\n",
       "      <td>2</td>\n",
       "      <td>2016-02-01 00:12:23</td>\n",
       "      <td>2016-02-01 00:24:24</td>\n",
       "      <td>1</td>\n",
       "      <td>2.53</td>\n",
       "      <td>-73.981056</td>\n",
       "      <td>40.721062</td>\n",
       "      <td>1</td>\n",
       "      <td>N</td>\n",
       "      <td>-74.007637</td>\n",
       "      <td>40.741058</td>\n",
       "      <td>1</td>\n",
       "      <td>11.0</td>\n",
       "      <td>0.5</td>\n",
       "      <td>0.5</td>\n",
       "      <td>2.46</td>\n",
       "      <td>0.0</td>\n",
       "      <td>0.3</td>\n",
       "      <td>14.76</td>\n",
       "    </tr>\n",
       "    <tr>\n",
       "      <th>3</th>\n",
       "      <td>12581500</td>\n",
       "      <td>1</td>\n",
       "      <td>2016-02-01 00:13:11</td>\n",
       "      <td>2016-02-01 00:17:00</td>\n",
       "      <td>1</td>\n",
       "      <td>0.50</td>\n",
       "      <td>-73.974213</td>\n",
       "      <td>40.742897</td>\n",
       "      <td>1</td>\n",
       "      <td>N</td>\n",
       "      <td>-73.980865</td>\n",
       "      <td>40.747684</td>\n",
       "      <td>1</td>\n",
       "      <td>4.5</td>\n",
       "      <td>0.5</td>\n",
       "      <td>0.5</td>\n",
       "      <td>1.15</td>\n",
       "      <td>0.0</td>\n",
       "      <td>0.3</td>\n",
       "      <td>6.95</td>\n",
       "    </tr>\n",
       "    <tr>\n",
       "      <th>4</th>\n",
       "      <td>12582200</td>\n",
       "      <td>2</td>\n",
       "      <td>2016-02-01 00:19:03</td>\n",
       "      <td>2016-02-01 00:38:33</td>\n",
       "      <td>1</td>\n",
       "      <td>5.50</td>\n",
       "      <td>-73.982292</td>\n",
       "      <td>40.776405</td>\n",
       "      <td>1</td>\n",
       "      <td>N</td>\n",
       "      <td>-73.976456</td>\n",
       "      <td>40.728714</td>\n",
       "      <td>1</td>\n",
       "      <td>18.5</td>\n",
       "      <td>0.5</td>\n",
       "      <td>0.5</td>\n",
       "      <td>1.50</td>\n",
       "      <td>0.0</td>\n",
       "      <td>0.3</td>\n",
       "      <td>21.30</td>\n",
       "    </tr>\n",
       "  </tbody>\n",
       "</table>\n",
       "</div>"
      ],
      "text/plain": [
       "   record_id  VendorID tpep_pickup_datetime tpep_dropoff_datetime  \\\n",
       "0   12580200         1  2016-02-01 00:02:29   2016-02-01 00:20:32   \n",
       "1   12581300         1  2016-02-01 00:11:37   2016-02-01 00:21:55   \n",
       "2   12581400         2  2016-02-01 00:12:23   2016-02-01 00:24:24   \n",
       "3   12581500         1  2016-02-01 00:13:11   2016-02-01 00:17:00   \n",
       "4   12582200         2  2016-02-01 00:19:03   2016-02-01 00:38:33   \n",
       "\n",
       "   passenger_count  trip_distance  pickup_longitude  pickup_latitude  \\\n",
       "0                1           3.50        -73.989433        40.762970   \n",
       "1                1           3.50        -73.988289        40.720108   \n",
       "2                1           2.53        -73.981056        40.721062   \n",
       "3                1           0.50        -73.974213        40.742897   \n",
       "4                1           5.50        -73.982292        40.776405   \n",
       "\n",
       "   RatecodeID store_and_fwd_flag  dropoff_longitude  dropoff_latitude  \\\n",
       "0           1                  N         -73.951668         40.781853   \n",
       "1           1                  N         -73.951080         40.687588   \n",
       "2           1                  N         -74.007637         40.741058   \n",
       "3           1                  N         -73.980865         40.747684   \n",
       "4           1                  N         -73.976456         40.728714   \n",
       "\n",
       "   payment_type  fare_amount  extra  mta_tax  tip_amount  tolls_amount  \\\n",
       "0             1         15.0    0.5      0.5        3.26           0.0   \n",
       "1             1         12.5    0.5      0.5        3.45           0.0   \n",
       "2             1         11.0    0.5      0.5        2.46           0.0   \n",
       "3             1          4.5    0.5      0.5        1.15           0.0   \n",
       "4             1         18.5    0.5      0.5        1.50           0.0   \n",
       "\n",
       "   improvement_surcharge  total_amount  \n",
       "0                    0.3         19.56  \n",
       "1                    0.3         17.25  \n",
       "2                    0.3         14.76  \n",
       "3                    0.3          6.95  \n",
       "4                    0.3         21.30  "
      ]
     },
     "execution_count": 6,
     "metadata": {},
     "output_type": "execute_result"
    }
   ],
   "source": [
    "# feb_query = f\"\"\"\n",
    "# SELECT * \n",
    "#             FROM {TABLE_NAME}\n",
    "#             WHERE tpep_pickup_datetime\n",
    "#                 BETWEEN '2016-02-01' AND '2016-03-01'\n",
    "#                 AND record_id % 100 == 0\n",
    "#             ORDER BY tpep_pickup_datetime\n",
    "#             \"\"\"\n",
    "\n",
    "# # YOUR CODE HERE\n",
    "# ##raise NotImplementedError()\n",
    "# with timeit(): # This query should take less than 3 second\n",
    "#     feb_df = pd.read_sql_query(feb_query, sql_engine)\n",
    "# feb_df.head()"
   ]
  },
  {
   "cell_type": "markdown",
   "metadata": {},
   "source": [
    "Now, let's store the result of our feb_query into a dataframe called feb_16_df"
   ]
  },
  {
   "cell_type": "code",
   "execution_count": 8,
   "metadata": {},
   "outputs": [
    {
     "name": "stdout",
     "output_type": "stream",
     "text": [
      "2.40 s elapsed\n"
     ]
    },
    {
     "data": {
      "text/html": [
       "<div>\n",
       "<style scoped>\n",
       "    .dataframe tbody tr th:only-of-type {\n",
       "        vertical-align: middle;\n",
       "    }\n",
       "\n",
       "    .dataframe tbody tr th {\n",
       "        vertical-align: top;\n",
       "    }\n",
       "\n",
       "    .dataframe thead th {\n",
       "        text-align: right;\n",
       "    }\n",
       "</style>\n",
       "<table border=\"1\" class=\"dataframe\">\n",
       "  <thead>\n",
       "    <tr style=\"text-align: right;\">\n",
       "      <th></th>\n",
       "      <th>record_id</th>\n",
       "      <th>VendorID</th>\n",
       "      <th>tpep_pickup_datetime</th>\n",
       "      <th>tpep_dropoff_datetime</th>\n",
       "      <th>passenger_count</th>\n",
       "      <th>trip_distance</th>\n",
       "      <th>pickup_longitude</th>\n",
       "      <th>pickup_latitude</th>\n",
       "      <th>RatecodeID</th>\n",
       "      <th>store_and_fwd_flag</th>\n",
       "      <th>dropoff_longitude</th>\n",
       "      <th>dropoff_latitude</th>\n",
       "      <th>payment_type</th>\n",
       "      <th>fare_amount</th>\n",
       "      <th>extra</th>\n",
       "      <th>mta_tax</th>\n",
       "      <th>tip_amount</th>\n",
       "      <th>tolls_amount</th>\n",
       "      <th>improvement_surcharge</th>\n",
       "      <th>total_amount</th>\n",
       "    </tr>\n",
       "  </thead>\n",
       "  <tbody>\n",
       "    <tr>\n",
       "      <th>0</th>\n",
       "      <td>12580200</td>\n",
       "      <td>1</td>\n",
       "      <td>2016-02-01 00:02:29</td>\n",
       "      <td>2016-02-01 00:20:32</td>\n",
       "      <td>1</td>\n",
       "      <td>3.50</td>\n",
       "      <td>-73.989433</td>\n",
       "      <td>40.762970</td>\n",
       "      <td>1</td>\n",
       "      <td>N</td>\n",
       "      <td>-73.951668</td>\n",
       "      <td>40.781853</td>\n",
       "      <td>1</td>\n",
       "      <td>15.0</td>\n",
       "      <td>0.5</td>\n",
       "      <td>0.5</td>\n",
       "      <td>3.26</td>\n",
       "      <td>0.0</td>\n",
       "      <td>0.3</td>\n",
       "      <td>19.56</td>\n",
       "    </tr>\n",
       "    <tr>\n",
       "      <th>1</th>\n",
       "      <td>12581300</td>\n",
       "      <td>1</td>\n",
       "      <td>2016-02-01 00:11:37</td>\n",
       "      <td>2016-02-01 00:21:55</td>\n",
       "      <td>1</td>\n",
       "      <td>3.50</td>\n",
       "      <td>-73.988289</td>\n",
       "      <td>40.720108</td>\n",
       "      <td>1</td>\n",
       "      <td>N</td>\n",
       "      <td>-73.951080</td>\n",
       "      <td>40.687588</td>\n",
       "      <td>1</td>\n",
       "      <td>12.5</td>\n",
       "      <td>0.5</td>\n",
       "      <td>0.5</td>\n",
       "      <td>3.45</td>\n",
       "      <td>0.0</td>\n",
       "      <td>0.3</td>\n",
       "      <td>17.25</td>\n",
       "    </tr>\n",
       "    <tr>\n",
       "      <th>2</th>\n",
       "      <td>12581400</td>\n",
       "      <td>2</td>\n",
       "      <td>2016-02-01 00:12:23</td>\n",
       "      <td>2016-02-01 00:24:24</td>\n",
       "      <td>1</td>\n",
       "      <td>2.53</td>\n",
       "      <td>-73.981056</td>\n",
       "      <td>40.721062</td>\n",
       "      <td>1</td>\n",
       "      <td>N</td>\n",
       "      <td>-74.007637</td>\n",
       "      <td>40.741058</td>\n",
       "      <td>1</td>\n",
       "      <td>11.0</td>\n",
       "      <td>0.5</td>\n",
       "      <td>0.5</td>\n",
       "      <td>2.46</td>\n",
       "      <td>0.0</td>\n",
       "      <td>0.3</td>\n",
       "      <td>14.76</td>\n",
       "    </tr>\n",
       "    <tr>\n",
       "      <th>3</th>\n",
       "      <td>12581500</td>\n",
       "      <td>1</td>\n",
       "      <td>2016-02-01 00:13:11</td>\n",
       "      <td>2016-02-01 00:17:00</td>\n",
       "      <td>1</td>\n",
       "      <td>0.50</td>\n",
       "      <td>-73.974213</td>\n",
       "      <td>40.742897</td>\n",
       "      <td>1</td>\n",
       "      <td>N</td>\n",
       "      <td>-73.980865</td>\n",
       "      <td>40.747684</td>\n",
       "      <td>1</td>\n",
       "      <td>4.5</td>\n",
       "      <td>0.5</td>\n",
       "      <td>0.5</td>\n",
       "      <td>1.15</td>\n",
       "      <td>0.0</td>\n",
       "      <td>0.3</td>\n",
       "      <td>6.95</td>\n",
       "    </tr>\n",
       "    <tr>\n",
       "      <th>4</th>\n",
       "      <td>12582200</td>\n",
       "      <td>2</td>\n",
       "      <td>2016-02-01 00:19:03</td>\n",
       "      <td>2016-02-01 00:38:33</td>\n",
       "      <td>1</td>\n",
       "      <td>5.50</td>\n",
       "      <td>-73.982292</td>\n",
       "      <td>40.776405</td>\n",
       "      <td>1</td>\n",
       "      <td>N</td>\n",
       "      <td>-73.976456</td>\n",
       "      <td>40.728714</td>\n",
       "      <td>1</td>\n",
       "      <td>18.5</td>\n",
       "      <td>0.5</td>\n",
       "      <td>0.5</td>\n",
       "      <td>1.50</td>\n",
       "      <td>0.0</td>\n",
       "      <td>0.3</td>\n",
       "      <td>21.30</td>\n",
       "    </tr>\n",
       "  </tbody>\n",
       "</table>\n",
       "</div>"
      ],
      "text/plain": [
       "   record_id  VendorID tpep_pickup_datetime tpep_dropoff_datetime  \\\n",
       "0   12580200         1  2016-02-01 00:02:29   2016-02-01 00:20:32   \n",
       "1   12581300         1  2016-02-01 00:11:37   2016-02-01 00:21:55   \n",
       "2   12581400         2  2016-02-01 00:12:23   2016-02-01 00:24:24   \n",
       "3   12581500         1  2016-02-01 00:13:11   2016-02-01 00:17:00   \n",
       "4   12582200         2  2016-02-01 00:19:03   2016-02-01 00:38:33   \n",
       "\n",
       "   passenger_count  trip_distance  pickup_longitude  pickup_latitude  \\\n",
       "0                1           3.50        -73.989433        40.762970   \n",
       "1                1           3.50        -73.988289        40.720108   \n",
       "2                1           2.53        -73.981056        40.721062   \n",
       "3                1           0.50        -73.974213        40.742897   \n",
       "4                1           5.50        -73.982292        40.776405   \n",
       "\n",
       "   RatecodeID store_and_fwd_flag  dropoff_longitude  dropoff_latitude  \\\n",
       "0           1                  N         -73.951668         40.781853   \n",
       "1           1                  N         -73.951080         40.687588   \n",
       "2           1                  N         -74.007637         40.741058   \n",
       "3           1                  N         -73.980865         40.747684   \n",
       "4           1                  N         -73.976456         40.728714   \n",
       "\n",
       "   payment_type  fare_amount  extra  mta_tax  tip_amount  tolls_amount  \\\n",
       "0             1         15.0    0.5      0.5        3.26           0.0   \n",
       "1             1         12.5    0.5      0.5        3.45           0.0   \n",
       "2             1         11.0    0.5      0.5        2.46           0.0   \n",
       "3             1          4.5    0.5      0.5        1.15           0.0   \n",
       "4             1         18.5    0.5      0.5        1.50           0.0   \n",
       "\n",
       "   improvement_surcharge  total_amount  \n",
       "0                    0.3         19.56  \n",
       "1                    0.3         17.25  \n",
       "2                    0.3         14.76  \n",
       "3                    0.3          6.95  \n",
       "4                    0.3         21.30  "
      ]
     },
     "execution_count": 8,
     "metadata": {},
     "output_type": "execute_result"
    }
   ],
   "source": [
    "# with timeit(): # less than 3 seconds\n",
    "#     feb_16_df = pd.read_sql_query(feb_query, sql_engine)\n",
    "# feb_16_df['tpep_pickup_datetime'] = pd.to_datetime(feb_16_df['tpep_pickup_datetime'])\n",
    "# feb_16_df['tpep_dropoff_datetime'] = pd.to_datetime(feb_16_df['tpep_dropoff_datetime'])\n",
    "# feb_16_df.head()"
   ]
  },
  {
   "cell_type": "markdown",
   "metadata": {},
   "source": [
    "Similarly to part 1, let's clean our data."
   ]
  },
  {
   "cell_type": "code",
   "execution_count": 9,
   "metadata": {},
   "outputs": [],
   "source": [
    "cleaned_feb_16_df = feb_16_df.copy()"
   ]
  },
  {
   "cell_type": "markdown",
   "metadata": {},
   "source": [
    "This query will find all rides in feb16 that are less than 12 hours, or 0.5 days."
   ]
  },
  {
   "cell_type": "code",
   "execution_count": 12,
   "metadata": {},
   "outputs": [
    {
     "name": "stdout",
     "output_type": "stream",
     "text": [
      "2.50 s elapsed\n"
     ]
    },
    {
     "data": {
      "text/html": [
       "<div>\n",
       "<style scoped>\n",
       "    .dataframe tbody tr th:only-of-type {\n",
       "        vertical-align: middle;\n",
       "    }\n",
       "\n",
       "    .dataframe tbody tr th {\n",
       "        vertical-align: top;\n",
       "    }\n",
       "\n",
       "    .dataframe thead th {\n",
       "        text-align: right;\n",
       "    }\n",
       "</style>\n",
       "<table border=\"1\" class=\"dataframe\">\n",
       "  <thead>\n",
       "    <tr style=\"text-align: right;\">\n",
       "      <th></th>\n",
       "      <th>record_id</th>\n",
       "      <th>VendorID</th>\n",
       "      <th>tpep_pickup_datetime</th>\n",
       "      <th>tpep_dropoff_datetime</th>\n",
       "      <th>passenger_count</th>\n",
       "      <th>trip_distance</th>\n",
       "      <th>pickup_longitude</th>\n",
       "      <th>pickup_latitude</th>\n",
       "      <th>RatecodeID</th>\n",
       "      <th>store_and_fwd_flag</th>\n",
       "      <th>dropoff_longitude</th>\n",
       "      <th>dropoff_latitude</th>\n",
       "      <th>payment_type</th>\n",
       "      <th>fare_amount</th>\n",
       "      <th>extra</th>\n",
       "      <th>mta_tax</th>\n",
       "      <th>tip_amount</th>\n",
       "      <th>tolls_amount</th>\n",
       "      <th>improvement_surcharge</th>\n",
       "      <th>total_amount</th>\n",
       "    </tr>\n",
       "  </thead>\n",
       "  <tbody>\n",
       "    <tr>\n",
       "      <th>0</th>\n",
       "      <td>12580200</td>\n",
       "      <td>1</td>\n",
       "      <td>2016-02-01 00:02:29</td>\n",
       "      <td>2016-02-01 00:20:32</td>\n",
       "      <td>1</td>\n",
       "      <td>3.50</td>\n",
       "      <td>-73.989433</td>\n",
       "      <td>40.762970</td>\n",
       "      <td>1</td>\n",
       "      <td>N</td>\n",
       "      <td>-73.951668</td>\n",
       "      <td>40.781853</td>\n",
       "      <td>1</td>\n",
       "      <td>15.0</td>\n",
       "      <td>0.5</td>\n",
       "      <td>0.5</td>\n",
       "      <td>3.26</td>\n",
       "      <td>0.0</td>\n",
       "      <td>0.3</td>\n",
       "      <td>19.56</td>\n",
       "    </tr>\n",
       "    <tr>\n",
       "      <th>1</th>\n",
       "      <td>12581300</td>\n",
       "      <td>1</td>\n",
       "      <td>2016-02-01 00:11:37</td>\n",
       "      <td>2016-02-01 00:21:55</td>\n",
       "      <td>1</td>\n",
       "      <td>3.50</td>\n",
       "      <td>-73.988289</td>\n",
       "      <td>40.720108</td>\n",
       "      <td>1</td>\n",
       "      <td>N</td>\n",
       "      <td>-73.951080</td>\n",
       "      <td>40.687588</td>\n",
       "      <td>1</td>\n",
       "      <td>12.5</td>\n",
       "      <td>0.5</td>\n",
       "      <td>0.5</td>\n",
       "      <td>3.45</td>\n",
       "      <td>0.0</td>\n",
       "      <td>0.3</td>\n",
       "      <td>17.25</td>\n",
       "    </tr>\n",
       "    <tr>\n",
       "      <th>2</th>\n",
       "      <td>12581400</td>\n",
       "      <td>2</td>\n",
       "      <td>2016-02-01 00:12:23</td>\n",
       "      <td>2016-02-01 00:24:24</td>\n",
       "      <td>1</td>\n",
       "      <td>2.53</td>\n",
       "      <td>-73.981056</td>\n",
       "      <td>40.721062</td>\n",
       "      <td>1</td>\n",
       "      <td>N</td>\n",
       "      <td>-74.007637</td>\n",
       "      <td>40.741058</td>\n",
       "      <td>1</td>\n",
       "      <td>11.0</td>\n",
       "      <td>0.5</td>\n",
       "      <td>0.5</td>\n",
       "      <td>2.46</td>\n",
       "      <td>0.0</td>\n",
       "      <td>0.3</td>\n",
       "      <td>14.76</td>\n",
       "    </tr>\n",
       "    <tr>\n",
       "      <th>3</th>\n",
       "      <td>12581500</td>\n",
       "      <td>1</td>\n",
       "      <td>2016-02-01 00:13:11</td>\n",
       "      <td>2016-02-01 00:17:00</td>\n",
       "      <td>1</td>\n",
       "      <td>0.50</td>\n",
       "      <td>-73.974213</td>\n",
       "      <td>40.742897</td>\n",
       "      <td>1</td>\n",
       "      <td>N</td>\n",
       "      <td>-73.980865</td>\n",
       "      <td>40.747684</td>\n",
       "      <td>1</td>\n",
       "      <td>4.5</td>\n",
       "      <td>0.5</td>\n",
       "      <td>0.5</td>\n",
       "      <td>1.15</td>\n",
       "      <td>0.0</td>\n",
       "      <td>0.3</td>\n",
       "      <td>6.95</td>\n",
       "    </tr>\n",
       "    <tr>\n",
       "      <th>4</th>\n",
       "      <td>12582200</td>\n",
       "      <td>2</td>\n",
       "      <td>2016-02-01 00:19:03</td>\n",
       "      <td>2016-02-01 00:38:33</td>\n",
       "      <td>1</td>\n",
       "      <td>5.50</td>\n",
       "      <td>-73.982292</td>\n",
       "      <td>40.776405</td>\n",
       "      <td>1</td>\n",
       "      <td>N</td>\n",
       "      <td>-73.976456</td>\n",
       "      <td>40.728714</td>\n",
       "      <td>1</td>\n",
       "      <td>18.5</td>\n",
       "      <td>0.5</td>\n",
       "      <td>0.5</td>\n",
       "      <td>1.50</td>\n",
       "      <td>0.0</td>\n",
       "      <td>0.3</td>\n",
       "      <td>21.30</td>\n",
       "    </tr>\n",
       "  </tbody>\n",
       "</table>\n",
       "</div>"
      ],
      "text/plain": [
       "   record_id  VendorID tpep_pickup_datetime tpep_dropoff_datetime  \\\n",
       "0   12580200         1  2016-02-01 00:02:29   2016-02-01 00:20:32   \n",
       "1   12581300         1  2016-02-01 00:11:37   2016-02-01 00:21:55   \n",
       "2   12581400         2  2016-02-01 00:12:23   2016-02-01 00:24:24   \n",
       "3   12581500         1  2016-02-01 00:13:11   2016-02-01 00:17:00   \n",
       "4   12582200         2  2016-02-01 00:19:03   2016-02-01 00:38:33   \n",
       "\n",
       "   passenger_count  trip_distance  pickup_longitude  pickup_latitude  \\\n",
       "0                1           3.50        -73.989433        40.762970   \n",
       "1                1           3.50        -73.988289        40.720108   \n",
       "2                1           2.53        -73.981056        40.721062   \n",
       "3                1           0.50        -73.974213        40.742897   \n",
       "4                1           5.50        -73.982292        40.776405   \n",
       "\n",
       "   RatecodeID store_and_fwd_flag  dropoff_longitude  dropoff_latitude  \\\n",
       "0           1                  N         -73.951668         40.781853   \n",
       "1           1                  N         -73.951080         40.687588   \n",
       "2           1                  N         -74.007637         40.741058   \n",
       "3           1                  N         -73.980865         40.747684   \n",
       "4           1                  N         -73.976456         40.728714   \n",
       "\n",
       "   payment_type  fare_amount  extra  mta_tax  tip_amount  tolls_amount  \\\n",
       "0             1         15.0    0.5      0.5        3.26           0.0   \n",
       "1             1         12.5    0.5      0.5        3.45           0.0   \n",
       "2             1         11.0    0.5      0.5        2.46           0.0   \n",
       "3             1          4.5    0.5      0.5        1.15           0.0   \n",
       "4             1         18.5    0.5      0.5        1.50           0.0   \n",
       "\n",
       "   improvement_surcharge  total_amount  \n",
       "0                    0.3         19.56  \n",
       "1                    0.3         17.25  \n",
       "2                    0.3         14.76  \n",
       "3                    0.3          6.95  \n",
       "4                    0.3         21.30  "
      ]
     },
     "execution_count": 12,
     "metadata": {},
     "output_type": "execute_result"
    }
   ],
   "source": [
    "# q3a_query = f\"\"\"\n",
    "# SELECT *\n",
    "# FROM ({feb_query})\n",
    "# WHERE (julianday(tpep_dropoff_datetime) - julianday(tpep_pickup_datetime)) < 0.5\n",
    "#             \"\"\"\n",
    "\n",
    "# # YOUR CODE HERE\n",
    "# ##raise NotImplementedError()\n",
    "# with timeit(): # should take < 3 seconds\n",
    "#     q3a_df = pd.read_sql_query(q3a_query, sql_engine)\n",
    "# q3a_df.head()"
   ]
  },
  {
   "cell_type": "code",
   "execution_count": 13,
   "metadata": {},
   "outputs": [],
   "source": [
    "# cleaned_feb_16_df['duration'] = cleaned_feb_16_df[\"tpep_dropoff_datetime\"]-cleaned_feb_16_df[\"tpep_pickup_datetime\"]\n",
    "# cleaned_feb_16_df['duration'] = cleaned_feb_16_df['duration'].dt.total_seconds()\n",
    "# cleaned_feb_16_df = cleaned_feb_16_df[cleaned_feb_16_df['duration'] < 12 * 3600]\n",
    "# assert len(q3a_df) == len(cleaned_feb_16_df)"
   ]
  },
  {
   "cell_type": "code",
   "execution_count": 14,
   "metadata": {},
   "outputs": [
    {
     "data": {
      "text/plain": [
       "(24286, 24286)"
      ]
     },
     "execution_count": 14,
     "metadata": {},
     "output_type": "execute_result"
    }
   ],
   "source": [
    "# len(q3a_df), len(cleaned_feb_16_df)"
   ]
  },
  {
   "cell_type": "markdown",
   "metadata": {},
   "source": [
    "Let's find all rides in q3a_query that are within the NYC region. We'll use this query as a temporary table q3b_query."
   ]
  },
  {
   "cell_type": "code",
   "execution_count": 15,
   "metadata": {},
   "outputs": [
    {
     "name": "stdout",
     "output_type": "stream",
     "text": [
      "2.42 s elapsed\n"
     ]
    },
    {
     "data": {
      "text/html": [
       "<div>\n",
       "<style scoped>\n",
       "    .dataframe tbody tr th:only-of-type {\n",
       "        vertical-align: middle;\n",
       "    }\n",
       "\n",
       "    .dataframe tbody tr th {\n",
       "        vertical-align: top;\n",
       "    }\n",
       "\n",
       "    .dataframe thead th {\n",
       "        text-align: right;\n",
       "    }\n",
       "</style>\n",
       "<table border=\"1\" class=\"dataframe\">\n",
       "  <thead>\n",
       "    <tr style=\"text-align: right;\">\n",
       "      <th></th>\n",
       "      <th>record_id</th>\n",
       "      <th>VendorID</th>\n",
       "      <th>tpep_pickup_datetime</th>\n",
       "      <th>tpep_dropoff_datetime</th>\n",
       "      <th>passenger_count</th>\n",
       "      <th>trip_distance</th>\n",
       "      <th>pickup_longitude</th>\n",
       "      <th>pickup_latitude</th>\n",
       "      <th>RatecodeID</th>\n",
       "      <th>store_and_fwd_flag</th>\n",
       "      <th>dropoff_longitude</th>\n",
       "      <th>dropoff_latitude</th>\n",
       "      <th>payment_type</th>\n",
       "      <th>fare_amount</th>\n",
       "      <th>extra</th>\n",
       "      <th>mta_tax</th>\n",
       "      <th>tip_amount</th>\n",
       "      <th>tolls_amount</th>\n",
       "      <th>improvement_surcharge</th>\n",
       "      <th>total_amount</th>\n",
       "    </tr>\n",
       "  </thead>\n",
       "  <tbody>\n",
       "    <tr>\n",
       "      <th>0</th>\n",
       "      <td>12580200</td>\n",
       "      <td>1</td>\n",
       "      <td>2016-02-01 00:02:29</td>\n",
       "      <td>2016-02-01 00:20:32</td>\n",
       "      <td>1</td>\n",
       "      <td>3.50</td>\n",
       "      <td>-73.989433</td>\n",
       "      <td>40.762970</td>\n",
       "      <td>1</td>\n",
       "      <td>N</td>\n",
       "      <td>-73.951668</td>\n",
       "      <td>40.781853</td>\n",
       "      <td>1</td>\n",
       "      <td>15.0</td>\n",
       "      <td>0.5</td>\n",
       "      <td>0.5</td>\n",
       "      <td>3.26</td>\n",
       "      <td>0.0</td>\n",
       "      <td>0.3</td>\n",
       "      <td>19.56</td>\n",
       "    </tr>\n",
       "    <tr>\n",
       "      <th>1</th>\n",
       "      <td>12581300</td>\n",
       "      <td>1</td>\n",
       "      <td>2016-02-01 00:11:37</td>\n",
       "      <td>2016-02-01 00:21:55</td>\n",
       "      <td>1</td>\n",
       "      <td>3.50</td>\n",
       "      <td>-73.988289</td>\n",
       "      <td>40.720108</td>\n",
       "      <td>1</td>\n",
       "      <td>N</td>\n",
       "      <td>-73.951080</td>\n",
       "      <td>40.687588</td>\n",
       "      <td>1</td>\n",
       "      <td>12.5</td>\n",
       "      <td>0.5</td>\n",
       "      <td>0.5</td>\n",
       "      <td>3.45</td>\n",
       "      <td>0.0</td>\n",
       "      <td>0.3</td>\n",
       "      <td>17.25</td>\n",
       "    </tr>\n",
       "    <tr>\n",
       "      <th>2</th>\n",
       "      <td>12581400</td>\n",
       "      <td>2</td>\n",
       "      <td>2016-02-01 00:12:23</td>\n",
       "      <td>2016-02-01 00:24:24</td>\n",
       "      <td>1</td>\n",
       "      <td>2.53</td>\n",
       "      <td>-73.981056</td>\n",
       "      <td>40.721062</td>\n",
       "      <td>1</td>\n",
       "      <td>N</td>\n",
       "      <td>-74.007637</td>\n",
       "      <td>40.741058</td>\n",
       "      <td>1</td>\n",
       "      <td>11.0</td>\n",
       "      <td>0.5</td>\n",
       "      <td>0.5</td>\n",
       "      <td>2.46</td>\n",
       "      <td>0.0</td>\n",
       "      <td>0.3</td>\n",
       "      <td>14.76</td>\n",
       "    </tr>\n",
       "    <tr>\n",
       "      <th>3</th>\n",
       "      <td>12581500</td>\n",
       "      <td>1</td>\n",
       "      <td>2016-02-01 00:13:11</td>\n",
       "      <td>2016-02-01 00:17:00</td>\n",
       "      <td>1</td>\n",
       "      <td>0.50</td>\n",
       "      <td>-73.974213</td>\n",
       "      <td>40.742897</td>\n",
       "      <td>1</td>\n",
       "      <td>N</td>\n",
       "      <td>-73.980865</td>\n",
       "      <td>40.747684</td>\n",
       "      <td>1</td>\n",
       "      <td>4.5</td>\n",
       "      <td>0.5</td>\n",
       "      <td>0.5</td>\n",
       "      <td>1.15</td>\n",
       "      <td>0.0</td>\n",
       "      <td>0.3</td>\n",
       "      <td>6.95</td>\n",
       "    </tr>\n",
       "    <tr>\n",
       "      <th>4</th>\n",
       "      <td>12582200</td>\n",
       "      <td>2</td>\n",
       "      <td>2016-02-01 00:19:03</td>\n",
       "      <td>2016-02-01 00:38:33</td>\n",
       "      <td>1</td>\n",
       "      <td>5.50</td>\n",
       "      <td>-73.982292</td>\n",
       "      <td>40.776405</td>\n",
       "      <td>1</td>\n",
       "      <td>N</td>\n",
       "      <td>-73.976456</td>\n",
       "      <td>40.728714</td>\n",
       "      <td>1</td>\n",
       "      <td>18.5</td>\n",
       "      <td>0.5</td>\n",
       "      <td>0.5</td>\n",
       "      <td>1.50</td>\n",
       "      <td>0.0</td>\n",
       "      <td>0.3</td>\n",
       "      <td>21.30</td>\n",
       "    </tr>\n",
       "  </tbody>\n",
       "</table>\n",
       "</div>"
      ],
      "text/plain": [
       "   record_id  VendorID tpep_pickup_datetime tpep_dropoff_datetime  \\\n",
       "0   12580200         1  2016-02-01 00:02:29   2016-02-01 00:20:32   \n",
       "1   12581300         1  2016-02-01 00:11:37   2016-02-01 00:21:55   \n",
       "2   12581400         2  2016-02-01 00:12:23   2016-02-01 00:24:24   \n",
       "3   12581500         1  2016-02-01 00:13:11   2016-02-01 00:17:00   \n",
       "4   12582200         2  2016-02-01 00:19:03   2016-02-01 00:38:33   \n",
       "\n",
       "   passenger_count  trip_distance  pickup_longitude  pickup_latitude  \\\n",
       "0                1           3.50        -73.989433        40.762970   \n",
       "1                1           3.50        -73.988289        40.720108   \n",
       "2                1           2.53        -73.981056        40.721062   \n",
       "3                1           0.50        -73.974213        40.742897   \n",
       "4                1           5.50        -73.982292        40.776405   \n",
       "\n",
       "   RatecodeID store_and_fwd_flag  dropoff_longitude  dropoff_latitude  \\\n",
       "0           1                  N         -73.951668         40.781853   \n",
       "1           1                  N         -73.951080         40.687588   \n",
       "2           1                  N         -74.007637         40.741058   \n",
       "3           1                  N         -73.980865         40.747684   \n",
       "4           1                  N         -73.976456         40.728714   \n",
       "\n",
       "   payment_type  fare_amount  extra  mta_tax  tip_amount  tolls_amount  \\\n",
       "0             1         15.0    0.5      0.5        3.26           0.0   \n",
       "1             1         12.5    0.5      0.5        3.45           0.0   \n",
       "2             1         11.0    0.5      0.5        2.46           0.0   \n",
       "3             1          4.5    0.5      0.5        1.15           0.0   \n",
       "4             1         18.5    0.5      0.5        1.50           0.0   \n",
       "\n",
       "   improvement_surcharge  total_amount  \n",
       "0                    0.3         19.56  \n",
       "1                    0.3         17.25  \n",
       "2                    0.3         14.76  \n",
       "3                    0.3          6.95  \n",
       "4                    0.3         21.30  "
      ]
     },
     "execution_count": 15,
     "metadata": {},
     "output_type": "execute_result"
    }
   ],
   "source": [
    "# def bounding_condition(lat_l, lat_u, lon_l, lon_u):\n",
    "#     return f\"\"\"\n",
    "#             pickup_longitude <= {lon_u} AND\n",
    "#             pickup_longitude >= {lon_l} AND\n",
    "#             dropoff_longitude <= {lon_u} AND\n",
    "#             dropoff_longitude >= {lon_l} AND\n",
    "#             pickup_latitude <= {lat_u} AND\n",
    "#             pickup_latitude >= {lat_l} AND\n",
    "#             dropoff_latitude <= {lat_u} AND\n",
    "#             dropoff_latitude >= {lat_l} \n",
    "#             \"\"\"\n",
    "\n",
    "# q3b_query = f\"\"\"\n",
    "# SELECT *\n",
    "# FROM ({q3a_query})\n",
    "# WHERE {bounding_condition(40.63, 40.85, -74.03, -73.75)}\n",
    "#             \"\"\"\n",
    "# lat_l = 40.63\n",
    "# lat_u = 40.85\n",
    "# lon_l = -74.03\n",
    "# lon_u = -73.75\n",
    "\n",
    "# # YOUR CODE HERE\n",
    "# ##raise NotImplementedError()\n",
    "# with timeit(): # should take < 3 seconds\n",
    "#     q3b_df = pd.read_sql_query(q3b_query, sql_engine)\n",
    "# q3b_df.head()"
   ]
  },
  {
   "cell_type": "code",
   "execution_count": 16,
   "metadata": {},
   "outputs": [],
   "source": [
    "# cleaned_feb_16_df = cleaned_feb_16_df[cleaned_feb_16_df['pickup_longitude'] <= -73.75]\n",
    "# cleaned_feb_16_df = cleaned_feb_16_df[cleaned_feb_16_df['pickup_longitude'] >= -74.03]\n",
    "# cleaned_feb_16_df = cleaned_feb_16_df[cleaned_feb_16_df['pickup_latitude'] <= 40.85]\n",
    "# cleaned_feb_16_df = cleaned_feb_16_df[cleaned_feb_16_df['pickup_latitude'] >= 40.63]\n",
    "# cleaned_feb_16_df = cleaned_feb_16_df[cleaned_feb_16_df['dropoff_longitude'] <= -73.75]\n",
    "# cleaned_feb_16_df = cleaned_feb_16_df[cleaned_feb_16_df['dropoff_longitude'] >= -74.03]\n",
    "# cleaned_feb_16_df = cleaned_feb_16_df[cleaned_feb_16_df['dropoff_latitude'] <= 40.85]\n",
    "# cleaned_feb_16_df = cleaned_feb_16_df[cleaned_feb_16_df['dropoff_latitude'] >= 40.63]\n",
    "# assert len(q3b_df) == len(cleaned_feb_16_df)"
   ]
  },
  {
   "cell_type": "code",
   "execution_count": 17,
   "metadata": {},
   "outputs": [
    {
     "data": {
      "text/plain": [
       "(23575, 23575)"
      ]
     },
     "execution_count": 17,
     "metadata": {},
     "output_type": "execute_result"
    }
   ],
   "source": [
    "# len(q3b_df), len(cleaned_feb_16_df)"
   ]
  },
  {
   "cell_type": "code",
   "execution_count": 19,
   "metadata": {},
   "outputs": [
    {
     "data": {
      "text/plain": [
       "6"
      ]
     },
     "execution_count": 19,
     "metadata": {},
     "output_type": "execute_result"
    }
   ],
   "source": [
    "# max(cleaned_feb_16_df['passenger_count'])"
   ]
  },
  {
   "cell_type": "code",
   "execution_count": 20,
   "metadata": {},
   "outputs": [
    {
     "data": {
      "text/plain": [
       "1"
      ]
     },
     "execution_count": 20,
     "metadata": {},
     "output_type": "execute_result"
    }
   ],
   "source": [
    "# min(cleaned_feb_16_df['passenger_count'])"
   ]
  },
  {
   "cell_type": "code",
   "execution_count": 3,
   "metadata": {},
   "outputs": [],
   "source": [
    "# data_file = Path(\"data/part3\", \"cleaned_data-Copy1.hdf\")\n",
    "# train_df_part_1 = pd.read_hdf(data_file,\"train\")"
   ]
  },
  {
   "cell_type": "code",
   "execution_count": 4,
   "metadata": {},
   "outputs": [],
   "source": [
    "# data_file = Path(\"./\", \"cleaned_data.hdf\")\n",
    "# train_df = pd.read_hdf(data_file, \"train\") ##part 1 shape is (18354, 21). head is record 8614300\n",
    "# val_df = pd.read_hdf(data_file, \"val\")"
   ]
  },
  {
   "cell_type": "code",
   "execution_count": 18,
   "metadata": {
    "scrolled": true
   },
   "outputs": [],
   "source": [
    "##Test data\n",
    "# test_df = pd.read_csv(\"./proj2_test_data.csv\")\n",
    "# test_df['tpep_pickup_datetime'] = pd.to_datetime(test_df['tpep_pickup_datetime'])\n",
    "# test_df.head()"
   ]
  },
  {
   "cell_type": "code",
   "execution_count": 7,
   "metadata": {},
   "outputs": [],
   "source": [
    "##Long and short rides\n",
    "# short_rides = train_df[train_df[\"duration\"] <= 900]\n",
    "# long_rides = train_df[train_df[\"duration\"] > 900] "
   ]
  },
  {
   "cell_type": "code",
   "execution_count": 8,
   "metadata": {},
   "outputs": [],
   "source": [
    "# # Copied from part 2\n",
    "# def haversine(lat1, lng1, lat2, lng2):\n",
    "#     \"\"\"\n",
    "#     Compute haversine distance\n",
    "#     \"\"\"\n",
    "#     lat1, lng1, lat2, lng2 = map(np.radians, (lat1, lng1, lat2, lng2))\n",
    "#     average_earth_radius = 6371\n",
    "#     lat = lat2 - lat1\n",
    "#     lng = lng2 - lng1\n",
    "#     d = np.sin(lat * 0.5) ** 2 + np.cos(lat1) * np.cos(lat2) * np.sin(lng * 0.5) ** 2\n",
    "#     h = 2 * average_earth_radius * np.arcsin(np.sqrt(d))\n",
    "#     return h\n",
    "\n",
    "# # Copied from part 2\n",
    "# def manhattan_distance(lat1, lng1, lat2, lng2):\n",
    "#     \"\"\"\n",
    "#     Compute Manhattan distance\n",
    "#     \"\"\"\n",
    "#     a = haversine(lat1, lng1, lat1, lng2)\n",
    "#     b = haversine(lat1, lng1, lat2, lng1)\n",
    "#     return a + b\n",
    "\n",
    "# # Copied from part 2\n",
    "# def bearing(lat1, lng1, lat2, lng2):\n",
    "#     \"\"\"\n",
    "#     Compute the bearing, or angle, from (lat1, lng1) to (lat2, lng2).\n",
    "#     A bearing of 0 refers to a NORTH orientation.\n",
    "#     \"\"\"\n",
    "#     lng_delta_rad = np.radians(lng2 - lng1)\n",
    "#     lat1, lng1, lat2, lng2 = map(np.radians, (lat1, lng1, lat2, lng2))\n",
    "#     y = np.sin(lng_delta_rad) * np.cos(lat2)\n",
    "#     x = np.cos(lat1) * np.sin(lat2) - np.sin(lat1) * np.cos(lat2) * np.cos(lng_delta_rad)\n",
    "#     return np.degrees(np.arctan2(y, x))\n",
    "\n",
    "# # Copied from part 2\n",
    "# def add_time_columns(df):\n",
    "#     \"\"\"\n",
    "#     Add temporal features to df\n",
    "#     \"\"\"\n",
    "#     df.is_copy = False # propogate write to original dataframe\n",
    "#     df.loc[:, 'month'] = df['tpep_pickup_datetime'].dt.month\n",
    "#     df.loc[:, 'week_of_year'] = df['tpep_pickup_datetime'].dt.weekofyear\n",
    "#     df.loc[:, 'day_of_month'] = df['tpep_pickup_datetime'].dt.day\n",
    "#     df.loc[:, 'day_of_week'] = df['tpep_pickup_datetime'].dt.dayofweek\n",
    "#     df.loc[:, 'hour'] = df['tpep_pickup_datetime'].dt.hour\n",
    "#     df.loc[:, 'week_hour'] = df['tpep_pickup_datetime'].dt.weekday * 24 + df['hour']\n",
    "#     return df\n",
    "\n",
    "# # Copied from part 2\n",
    "# def add_distance_columns(df):\n",
    "#     \"\"\"\n",
    "#     Add distance features to df\n",
    "#     \"\"\"\n",
    "#     df.is_copy = False # propogate write to original dataframe\n",
    "#     df.loc[:, 'manhattan'] = manhattan_distance(lat1=df['pickup_latitude'],\n",
    "#                                                 lng1=df['pickup_longitude'],\n",
    "#                                                 lat2=df['dropoff_latitude'],\n",
    "#                                                 lng2=df['dropoff_longitude'])\n",
    "\n",
    "#     df.loc[:, 'bearing'] = bearing(lat1=df['pickup_latitude'],\n",
    "#                                    lng1=df['pickup_longitude'],\n",
    "#                                    lat2=df['dropoff_latitude'],\n",
    "#                                    lng2=df['dropoff_longitude'])\n",
    "#     df.loc[:, 'haversine'] = haversine(lat1=df['pickup_latitude'],\n",
    "#                                    lng1=df['pickup_longitude'],\n",
    "#                                    lat2=df['dropoff_latitude'],\n",
    "#                                    lng2=df['dropoff_longitude'])\n",
    "#     return df\n",
    "\n",
    "# def select_columns(data, *columns):\n",
    "#     return data.loc[:, columns]"
   ]
  },
  {
   "cell_type": "code",
   "execution_count": 9,
   "metadata": {
    "scrolled": true
   },
   "outputs": [
    {
     "name": "stderr",
     "output_type": "stream",
     "text": [
      "/srv/conda/envs/data100/lib/python3.6/site-packages/pandas/core/generic.py:4388: FutureWarning: Attribute 'is_copy' is deprecated and will be removed in a future version.\n",
      "  object.__getattribute__(self, name)\n",
      "/srv/conda/envs/data100/lib/python3.6/site-packages/pandas/core/generic.py:4389: FutureWarning: Attribute 'is_copy' is deprecated and will be removed in a future version.\n",
      "  return object.__setattr__(self, name, value)\n"
     ]
    }
   ],
   "source": [
    "##Add time columns to train_df, Long_rides, short_rides:\n",
    "# train_df = add_time_columns(train_df)\n",
    "# short_rides = add_time_columns(short_rides)\n",
    "# long_rides = add_time_columns(long_rides)"
   ]
  },
  {
   "cell_type": "markdown",
   "metadata": {},
   "source": [
    "## New Pipe"
   ]
  },
  {
   "cell_type": "code",
   "execution_count": 10,
   "metadata": {},
   "outputs": [],
   "source": [
    "# def process_data_gm1(data, test=False):\n",
    "#     X = (\n",
    "#         data\n",
    "        \n",
    "#         # Transform data\n",
    "#         .pipe(add_time_columns)\n",
    "#         .pipe(add_distance_columns)\n",
    "        \n",
    "#         .pipe(select_columns,        \n",
    "#               'hour',  \n",
    "#               'passenger_count',   \n",
    "#               'day_of_week', \n",
    "#               'dropoff_latitude',\n",
    "#               'manhattan'\n",
    "#              )\n",
    "#     )\n",
    "#     if test:\n",
    "#         y = None\n",
    "#     else:\n",
    "#         y = data['duration']\n",
    "        \n",
    "#     return X, y"
   ]
  },
  {
   "cell_type": "code",
   "execution_count": 11,
   "metadata": {},
   "outputs": [
    {
     "name": "stderr",
     "output_type": "stream",
     "text": [
      "/srv/conda/envs/data100/lib/python3.6/site-packages/pandas/core/generic.py:4388: FutureWarning: Attribute 'is_copy' is deprecated and will be removed in a future version.\n",
      "  object.__getattribute__(self, name)\n",
      "/srv/conda/envs/data100/lib/python3.6/site-packages/pandas/core/generic.py:4389: FutureWarning: Attribute 'is_copy' is deprecated and will be removed in a future version.\n",
      "  return object.__setattr__(self, name, value)\n"
     ]
    }
   ],
   "source": [
    "# # Train\n",
    "# X_train, y_train = process_data_gm1(train_df)\n",
    "# X_val, y_val = process_data_gm1(val_df)\n",
    "# guided_model_1 = lm.LinearRegression(fit_intercept=True)\n",
    "# guided_model_1.fit(X_train, y_train)\n",
    "\n",
    "# # Predict\n",
    "# y_train_pred = guided_model_1.predict(X_train)\n",
    "# y_val_pred = guided_model_1.predict(X_val)"
   ]
  },
  {
   "cell_type": "code",
   "execution_count": 12,
   "metadata": {},
   "outputs": [],
   "source": [
    "# assert 600 <= np.median(y_train_pred) <= 700\n",
    "# assert 600 <= np.median(y_val_pred) <= 700"
   ]
  },
  {
   "cell_type": "code",
   "execution_count": 16,
   "metadata": {},
   "outputs": [
    {
     "data": {
      "text/plain": [
       "513.12015859228995"
      ]
     },
     "execution_count": 16,
     "metadata": {},
     "output_type": "execute_result"
    }
   ],
   "source": [
    "# y_train_pred[0]"
   ]
  },
  {
   "cell_type": "code",
   "execution_count": 17,
   "metadata": {},
   "outputs": [
    {
     "data": {
      "text/plain": [
       "513.12015859228995"
      ]
     },
     "execution_count": 17,
     "metadata": {},
     "output_type": "execute_result"
    }
   ],
   "source": [
    "# X_train.iloc[0, :].dot(guided_model_1.coef_) + guided_model_1.intercept_"
   ]
  },
  {
   "cell_type": "markdown",
   "metadata": {},
   "source": [
    "## MAE"
   ]
  },
  {
   "cell_type": "code",
   "execution_count": 18,
   "metadata": {},
   "outputs": [],
   "source": [
    "# def mae(actual, predicted):\n",
    "#     \"\"\"\n",
    "#     Calculates MAE from actual and predicted values\n",
    "#     Input:\n",
    "#       actual (1D array-like): vector of actual values\n",
    "#       predicted (1D array-like): vector of predicted/fitted values\n",
    "#     Output:\n",
    "#       a float, the MAE\n",
    "#     \"\"\"\n",
    "    \n",
    "#     mae = np.mean(np.abs(actual - predicted))\n",
    "#     return mae"
   ]
  },
  {
   "cell_type": "code",
   "execution_count": 19,
   "metadata": {},
   "outputs": [
    {
     "name": "stdout",
     "output_type": "stream",
     "text": [
      "Validation Error:  267.299878056\n"
     ]
    }
   ],
   "source": [
    "# print(\"Validation Error: \", mae(y_val_pred, y_val))"
   ]
  },
  {
   "cell_type": "markdown",
   "metadata": {},
   "source": [
    "## Visualizing Error"
   ]
  },
  {
   "cell_type": "code",
   "execution_count": 20,
   "metadata": {},
   "outputs": [
    {
     "data": {
      "image/png": "[encoded data removed]",
      "text/plain": [
       "<matplotlib.figure.Figure at 0x7f5810b17c50>"
      ]
     },
     "metadata": {},
     "output_type": "display_data"
    }
   ],
   "source": [
    "# plt.figure(figsize=(8,4))\n",
    "# sns.distplot(np.abs(y_val - y_val_pred))\n",
    "# plt.xlabel('residual')\n",
    "# plt.title('distribution of residuals');"
   ]
  },
  {
   "cell_type": "code",
   "execution_count": null,
   "metadata": {},
   "outputs": [],
   "source": []
  },
  {
   "cell_type": "markdown",
   "metadata": {},
   "source": [
    "## Submission\n",
    "\n",
    "You're almost done!\n",
    "\n",
    "Before submitting this assignment, ensure that you have:\n",
    "\n",
    "1. Restarted the Kernel (in the menubar, select Kernel$\\rightarrow$Restart & Run All)\n",
    "2. Validated the notebook by clicking the \"Validate\" button.\n",
    "\n",
    "Then,\n",
    "\n",
    "1. **Submit** the assignment via the Assignments tab in **Datahub** \n",
    "1. **Upload and tag** the manually reviewed portions of the assignment on **Gradescope**"
   ]
  },
  {
   "cell_type": "code",
   "execution_count": null,
   "metadata": {},
   "outputs": [],
   "source": []
  }
 ],
 "metadata": {
  "kernelspec": {
   "display_name": "Python 3",
   "language": "python",
   "name": "python3"
  },
  "language_info": {
   "codemirror_mode": {
    "name": "ipython",
    "version": 3
   },
   "file_extension": ".py",
   "mimetype": "text/x-python",
   "name": "python",
   "nbconvert_exporter": "python",
   "pygments_lexer": "ipython3",
   "version": "3.6.4"
  }
 },
 "nbformat": 4,
 "nbformat_minor": 2
}
