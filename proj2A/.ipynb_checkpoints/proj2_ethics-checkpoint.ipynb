{
 "cells": [
  {
   "cell_type": "markdown",
   "metadata": {},
   "source": [
    "Before you turn in the homework, make sure everything runs as expected. To do so, select **Kernel**$\\rightarrow$**Restart & Run All** in the toolbar above.  Remember to submit both on **DataHub** and **Gradescope**.\n",
    "\n",
    "Please fill in your name and include a list of your collaborators below."
   ]
  },
  {
   "cell_type": "code",
   "execution_count": 1,
   "metadata": {},
   "outputs": [],
   "source": [
    "NAME = \"Timlan Wong\"\n",
    "COLLABORATORS = \"\""
   ]
  },
  {
   "cell_type": "markdown",
   "metadata": {},
   "source": [
    "---"
   ]
  },
  {
   "cell_type": "markdown",
   "metadata": {
    "deletable": false,
    "editable": false,
    "nbgrader": {
     "cell_type": "markdown",
     "checksum": "e7eaf28713568e98e7e9cae11949d588",
     "grade": false,
     "grade_id": "cell-0f606107582a739d",
     "locked": true,
     "schema_version": 2,
     "solution": false
    }
   },
   "source": [
    "# Project 2: NYC Taxi Rides\n",
    "\n",
    "# Data Ethics\n",
    "\n",
    "It's important to consider data ethics and the NYC taxi dataset is no exception. In this notebook we will give you some food for thought and prompt you to think critically about some important aspects of this dataset. \n",
    "\n",
    "Please choose 2 out of the following 4 questions and write thoughtful responses to your chosen questions. You should make sure to backup your responses with proofs, counter examples, real world data, etc. We encourage you to not only draw upon lectures/online resources but also to debate with your peers! Make sure to submit this notebook to datahub.\n",
    "\n",
    "## Questions\n",
    "\n",
    "1. We downloaded the taxi data from a publicly available endpoint (http://www.nyc.gov/html/tlc/html/about/trip_record_data.shtml). This means anyone can access this dataset. Can you think of some other external dataset that can be joined with the taxi data that can be utilized to target specific demographics or invade privacy? How could this dataset be used? For example, if we join taxi dataset and street camera, it will be easy to findout who the passenger is.\n",
    "\n",
    "2. Many people use ride sharing services like Uber or Lyft. Unlike taxi companies, Uber and Lyft know who you are and exactly where you are going. Although the data is not publicy accessible, you can still access part of the data through limited accessed API that's only opened to paid partners (https://developer.uber.com/docs/riders/references/api/v1.2/requests-request_id-get). What can a third party do with these data? \n",
    "\n",
    "3. If Josh is the chief data scientist at Uber, he has access to all the Uber data. He wants to investigate racial discrimination against drivers by evaluating and performing hypothesis testing on a ride ratings dataset. For example, he can test the hypothesis that given the same level of service, an Asian driver will get different rating from a Caucasian driver. Can Josh perform such experiment? State your assumptions on the data available at Uber.\n",
    "\n",
    "4. Let's say that the New York City Metropolitan Transportation Authority (NYC MTA) aggregates data from taxis, Ubers, and Lyfts, and determines that people in Brooklyn rarely use taxis/rideshares. The director of the MTA signs a bill to devote all transportation infrastructure funds solely to Manhattan; what is(are) the flaw(s) in making that assumption?"
   ]
  },
  {
   "cell_type": "code",
   "execution_count": 2,
   "metadata": {},
   "outputs": [
    {
     "name": "stdout",
     "output_type": "stream",
     "text": [
      "My first question is 2. If the data gets in the wrong hands, then third parties will be able to identify youand send you unwanted information, such as ads for their product. They will spam you and possibly even pose falsely asUber and Lyft themselves and email you offers such as discounts or limited time free rides and steal your money. Also, thefact that the third party knows your location is dangerous for you because they would be able to anonymously send youthings to your location that are unwanted, and possibly blackmail you by forcing you to enlist in their product overUber or Lyft or otherwise face real-life threats.\n"
     ]
    }
   ],
   "source": [
    "response_1 = \"My first question is 2. If the data gets in the wrong hands, then third parties will be able to identify you\\\n",
    "and send you unwanted information, such as ads for their product. They will spam you and possibly even pose falsely as\\\n",
    "Uber and Lyft themselves and email you offers such as discounts or limited time free rides and steal your money. Also, the\\\n",
    "fact that the third party knows your location is dangerous for you because they would be able to anonymously send you\\\n",
    "things to your location that are unwanted, and possibly blackmail you by forcing you to enlist in their product over\\\n",
    "Uber or Lyft or otherwise face real-life threats.\"\n",
    "print(response_1)"
   ]
  },
  {
   "cell_type": "code",
   "execution_count": 3,
   "metadata": {
    "deletable": false,
    "editable": false,
    "nbgrader": {
     "cell_type": "code",
     "checksum": "369c02697c3518448214bffeb3c98c35",
     "grade": true,
     "grade_id": "response-1-test",
     "locked": true,
     "points": 5,
     "schema_version": 2,
     "solution": false
    }
   },
   "outputs": [],
   "source": [
    "# Don't delete me!"
   ]
  },
  {
   "cell_type": "code",
   "execution_count": 4,
   "metadata": {},
   "outputs": [
    {
     "name": "stdout",
     "output_type": "stream",
     "text": [
      "My second question is 3. Personally, I think that a hypothesis test would not work for this data because thedata is mostly about opinionated values. What I mean is that let's say this rating is a scale between 1-5, with 1 beingvery bad driver service and 5 being an excellent driver service. Let's say that the Asian driver gives the same level ofservice to two different customers, and one gives the driver a 4 while the other a 5. How can the driver, who gives thesame level of service to both customers, get a different score from both? This is because the ratings are subjective;one person's 4 is another person's 5. This experiment simply won't be accurate because people have different levels ofexpectations on what they think is excellent. Therefore, I do not think that the type of race the driver is will affect hisor her rating, but rather the personalities and expectations of the individual riders themselves.\n"
     ]
    }
   ],
   "source": [
    "response_2 = \"My second question is 3. Personally, I think that a hypothesis test would not work for this data because the\\\n",
    "data is mostly about opinionated values. What I mean is that let's say this rating is a scale between 1-5, with 1 being\\\n",
    "very bad driver service and 5 being an excellent driver service. Let's say that the Asian driver gives the same level of\\\n",
    "service to two different customers, and one gives the driver a 4 while the other a 5. How can the driver, who gives the\\\n",
    "same level of service to both customers, get a different score from both? This is because the ratings are subjective;\\\n",
    "one person's 4 is another person's 5. This experiment simply won't be accurate because people have different levels of\\\n",
    "expectations on what they think is excellent. Therefore, I do not think that the type of race the driver is will affect his\\\n",
    "or her rating, but rather the personalities and expectations of the individual riders themselves.\"\n",
    "print(response_2)"
   ]
  },
  {
   "cell_type": "code",
   "execution_count": 5,
   "metadata": {
    "deletable": false,
    "editable": false,
    "nbgrader": {
     "cell_type": "code",
     "checksum": "aac6608f6452d6bd8bd157dc6e1631e0",
     "grade": true,
     "grade_id": "response-2-test",
     "locked": true,
     "points": 5,
     "schema_version": 2,
     "solution": false
    }
   },
   "outputs": [],
   "source": [
    "# Don't delete me!"
   ]
  },
  {
   "cell_type": "markdown",
   "metadata": {},
   "source": [
    "## Submission\n",
    "\n",
    "You're almost done!\n",
    "\n",
    "Before submitting this assignment, ensure that you have:\n",
    "\n",
    "1. Restarted the Kernel (in the menubar, select Kernel$\\rightarrow$Restart & Run All)\n",
    "2. Validated the notebook by clicking the \"Validate\" button.\n",
    "\n",
    "Then,\n",
    "\n",
    "1. **Submit** the assignment via the Assignments tab in **Datahub** \n",
    "1. **Upload and tag** the manually reviewed portions of the assignment on **Gradescope**"
   ]
  },
  {
   "cell_type": "code",
   "execution_count": null,
   "metadata": {},
   "outputs": [],
   "source": []
  }
 ],
 "metadata": {
  "kernelspec": {
   "display_name": "Python 3",
   "language": "python",
   "name": "python3"
  },
  "language_info": {
   "codemirror_mode": {
    "name": "ipython",
    "version": 3
   },
   "file_extension": ".py",
   "mimetype": "text/x-python",
   "name": "python",
   "nbconvert_exporter": "python",
   "pygments_lexer": "ipython3",
   "version": "3.6.4"
  }
 },
 "nbformat": 4,
 "nbformat_minor": 2
}
